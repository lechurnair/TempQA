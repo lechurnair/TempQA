{
  "nbformat": 4,
  "nbformat_minor": 0,
  "metadata": {
    "colab": {
      "provenance": [],
      "mount_file_id": "11F_ueYhykZMNtX4RSPPX292zT-SExX1D",
      "authorship_tag": "ABX9TyPnQ2YRKBDD+qtYmOx5xk7f",
      "include_colab_link": true
    },
    "kernelspec": {
      "name": "python3",
      "display_name": "Python 3"
    },
    "language_info": {
      "name": "python"
    }
  },
  "cells": [
    {
      "cell_type": "markdown",
      "metadata": {
        "id": "view-in-github",
        "colab_type": "text"
      },
      "source": [
        "<a href=\"https://colab.research.google.com/github/lechurnair/TempQA/blob/main/similarity_scores.ipynb\" target=\"_parent\"><img src=\"https://colab.research.google.com/assets/colab-badge.svg\" alt=\"Open In Colab\"/></a>"
      ]
    },
    {
      "cell_type": "code",
      "execution_count": 1,
      "metadata": {
        "colab": {
          "base_uri": "https://localhost:8080/"
        },
        "id": "slIrNqMqxW17",
        "outputId": "7ee3793d-c573-40b5-8c3b-0e2fb41231e5"
      },
      "outputs": [
        {
          "output_type": "stream",
          "name": "stdout",
          "text": [
            "Average cosine similarity for Frequency: 0.5539126396179199\n",
            "Average cosine similarity for Event Duration: 0.5055145621299744\n",
            "Average cosine similarity for Event Ordering: 0.40684211254119873\n",
            "Average cosine similarity for Typical Time: 0.5407765507698059\n",
            "Average cosine similarity for Stationarity: 0.4575744867324829\n"
          ]
        }
      ],
      "source": [
        "import pandas as pd\n",
        "import spacy\n",
        "import numpy as np\n",
        "from sklearn.metrics.pairwise import cosine_similarity\n",
        "import en_core_web_sm\n",
        "\n",
        "nlp = en_core_web_sm.load()\n",
        "\n",
        "def get_embedding(sentence):\n",
        "    tokens = nlp(sentence)\n",
        "    return np.mean([token.vector for token in tokens], axis=0)\n",
        "\n",
        "def calculate_cosine_similarity(reference_sentence, predicted_sentence):\n",
        "    reference_embedding = get_embedding(reference_sentence)\n",
        "    predicted_embedding = get_embedding(predicted_sentence)\n",
        "\n",
        "    reference_embedding = reference_embedding.reshape(1, -1)\n",
        "    predicted_embedding = predicted_embedding.reshape(1, -1)\n",
        "\n",
        "    similarity = cosine_similarity(reference_embedding, predicted_embedding)[0, 0]\n",
        "\n",
        "    return similarity\n",
        "\n",
        "df = pd.read_csv('/content/drive/MyDrive/Train_SamSUM_RealNews_McTACO_Full_Test_Mctaco.csv')\n",
        "\n",
        "categories = ['Frequency', 'Event Duration', 'Event Ordering', 'Typical Time', 'Stationarity']\n",
        "\n",
        "average_similarities = {}\n",
        "\n",
        "for category in categories:\n",
        "    category_df = df[df['category'] == category]\n",
        "\n",
        "    similarities = []\n",
        "\n",
        "    maxi=0\n",
        "    for _, row in category_df.iterrows():\n",
        "      maxi=0\n",
        "      for word in row['expected answer']:\n",
        "        maxi=max(maxi,calculate_cosine_similarity(word, row['answer']))\n",
        "      similarities.append(maxi)\n",
        "\n",
        "    average_similarities[category] = np.mean(similarities) if similarities else 0\n",
        "\n",
        "for category, avg_similarity in average_similarities.items():\n",
        "    print(f\"Average cosine similarity for {category}: {avg_similarity}\")\n"
      ]
    },
    {
      "cell_type": "code",
      "source": [
        "calculate_cosine_similarity('yes',\"['yes']\")"
      ],
      "metadata": {
        "colab": {
          "base_uri": "https://localhost:8080/"
        },
        "id": "cAxm3RAw0ZMB",
        "outputId": "18781514-f584-491f-b471-f581c16653d9"
      },
      "execution_count": 2,
      "outputs": [
        {
          "output_type": "execute_result",
          "data": {
            "text/plain": [
              "0.40036133"
            ]
          },
          "metadata": {},
          "execution_count": 2
        }
      ]
    },
    {
      "cell_type": "code",
      "source": [
        "import pandas as pd\n",
        "import spacy\n",
        "import numpy as np\n",
        "from sklearn.metrics.pairwise import cosine_similarity\n",
        "import en_core_web_sm\n",
        "\n",
        "nlp = en_core_web_sm.load()\n",
        "\n",
        "def get_embedding(sentence):\n",
        "    tokens = nlp(sentence)\n",
        "    return np.mean([token.vector for token in tokens], axis=0)\n",
        "\n",
        "def calculate_cosine_similarity(reference_sentence, predicted_sentence):\n",
        "    reference_embedding = get_embedding(reference_sentence)\n",
        "    predicted_embedding = get_embedding(predicted_sentence)\n",
        "\n",
        "    reference_embedding = reference_embedding.reshape(1, -1)\n",
        "    predicted_embedding = predicted_embedding.reshape(1, -1)\n",
        "\n",
        "    similarity = cosine_similarity(reference_embedding, predicted_embedding)[0, 0]\n",
        "\n",
        "    return similarity\n",
        "\n",
        "df = pd.read_csv('/content/drive/MyDrive/Train_RealNews_Test_Mctaco.csv')\n",
        "\n",
        "categories = ['Frequency', 'Event Duration', 'Event Ordering', 'Typical Time', 'Stationarity']\n",
        "\n",
        "average_similarities = {}\n",
        "\n",
        "for category in categories:\n",
        "    category_df = df[df['category'] == category]\n",
        "\n",
        "    similarities = []\n",
        "\n",
        "    maxi=0\n",
        "    for _, row in category_df.iterrows():\n",
        "      maxi=0\n",
        "      for word in row['expected answer']:\n",
        "        maxi=max(maxi,calculate_cosine_similarity(word, row['answer']))\n",
        "      similarities.append(maxi)\n",
        "\n",
        "    average_similarities[category] = np.mean(similarities) if similarities else 0\n",
        "\n",
        "for category, avg_similarity in average_similarities.items():\n",
        "    print(f\"Average cosine similarity for {category}: {avg_similarity}\")\n"
      ],
      "metadata": {
        "colab": {
          "base_uri": "https://localhost:8080/"
        },
        "id": "uptnPRsX2KoN",
        "outputId": "98786178-dcdc-4640-dc98-06c387988d81"
      },
      "execution_count": 5,
      "outputs": [
        {
          "output_type": "stream",
          "name": "stdout",
          "text": [
            "Average cosine similarity for Frequency: 0.5781254172325134\n",
            "Average cosine similarity for Event Duration: 0.5080804824829102\n",
            "Average cosine similarity for Event Ordering: 0.4764934778213501\n",
            "Average cosine similarity for Typical Time: 0.5523188710212708\n",
            "Average cosine similarity for Stationarity: 0.35836413502693176\n"
          ]
        }
      ]
    }
  ]
}