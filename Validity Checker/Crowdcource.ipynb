{
  "nbformat": 4,
  "nbformat_minor": 0,
  "metadata": {
    "colab": {
      "provenance": [],
      "mount_file_id": "1MKddLaR1mCZtjJM2CqPRosKi7AMAK3g3",
      "authorship_tag": "ABX9TyPP4vCgpbxSUnsKaidJJ1sN",
      "include_colab_link": true
    },
    "kernelspec": {
      "name": "python3",
      "display_name": "Python 3"
    },
    "language_info": {
      "name": "python"
    }
  },
  "cells": [
    {
      "cell_type": "markdown",
      "metadata": {
        "id": "view-in-github",
        "colab_type": "text"
      },
      "source": [
        "<a href=\"https://colab.research.google.com/github/lechurnair/TempQA/blob/main/Validity%20Checker/Crowdcource.ipynb\" target=\"_parent\"><img src=\"https://colab.research.google.com/assets/colab-badge.svg\" alt=\"Open In Colab\"/></a>"
      ]
    },
    {
      "cell_type": "code",
      "source": [
        "import pandas as pd\n",
        "\n",
        "#The results after crowdsourcing\n",
        "df = pd.read_csv(\"/content/drive/MyDrive/BTP Crowdsourcing (Responses) - Form Responses 1.csv\")\n",
        "ans=0\n",
        "i=0\n",
        "tp=0\n",
        "tn=0\n",
        "fp=0\n",
        "fn=0\n",
        "maj=0\n",
        "for column in df.columns[2:]:\n",
        "    value_counts = df[column].value_counts()\n",
        "\n",
        "    majority_value = value_counts.idxmax()\n",
        "\n",
        "    if majority_value==\"I don't know\":\n",
        "      maj+=1\n",
        "    elif majority_value=='Yes' and checklist[i]=='Yes':\n",
        "      tp+=1\n",
        "    elif majority_value=='No' and checklist[i]=='No':\n",
        "      tn+=1\n",
        "    elif majority_value=='Yes' and checklist[i]=='No':\n",
        "      fn+=1\n",
        "    elif majority_value=='No' and checklist[i]=='Yes':\n",
        "      fp+=1\n",
        "    if majority_value==checklist[i] or majority_value==\"I don't know\":\n",
        "      ans+=1\n",
        "    i+=1\n",
        "print(ans)\n",
        "df = pd.read_csv(\"/content/drive/MyDrive/Form2 - Form Responses 1.csv\")\n",
        "ans2=0\n",
        "for column in df.columns[2:]:\n",
        "    value_counts = df[column].value_counts()\n",
        "\n",
        "    majority_value = value_counts.idxmax()\n",
        "\n",
        "    # print(f\"Majority answer for {column}: {majority_value}\")\n",
        "    #print(majority_value)\n",
        "    if majority_value==\"I don't know\":\n",
        "      if checklist[i]=='Yes':\n",
        "        tp+=1\n",
        "      else:\n",
        "        tn+=1\n",
        "    elif majority_value=='Yes' and checklist[i]=='Yes':\n",
        "      tp+=1\n",
        "    elif majority_value=='No' and checklist[i]=='No':\n",
        "      tn+=1\n",
        "    elif majority_value=='Yes' and checklist[i]=='No':\n",
        "      fn+=1\n",
        "    elif majority_value=='No' and checklist[i]=='Yes':\n",
        "      fp+=1\n",
        "    if majority_value==checklist[i] or majority_value==\"I don't know\":\n",
        "      ans2+=1\n",
        "    i+=1\n",
        "print(ans2)\n",
        "print(tp)\n",
        "print(tn)\n",
        "print(fp)\n",
        "print(fn)\n",
        "print(maj)"
      ],
      "metadata": {
        "colab": {
          "base_uri": "https://localhost:8080/"
        },
        "id": "oVkBJ048bCNx",
        "outputId": "5d98871c-7a72-4781-badd-229604677fda"
      },
      "execution_count": null,
      "outputs": [
        {
          "output_type": "stream",
          "name": "stdout",
          "text": [
            "71\n",
            "87\n",
            "149\n",
            "7\n",
            "17\n",
            "25\n",
            "2\n"
          ]
        }
      ]
    },
    {
      "cell_type": "code",
      "source": [
        "import pandas as pd\n",
        "\n",
        "df = pd.read_csv(\"/content/drive/MyDrive/BTP Crowdsourcing (Responses) - Form Responses 1.csv\")\n",
        "ans=0\n",
        "i=0\n",
        "tp=0\n",
        "tn=0\n",
        "fp=0\n",
        "fn=0\n",
        "maj=0\n",
        "for column in df.columns[2:]:\n",
        "    value_counts = df[column].value_counts()\n",
        "\n",
        "    majority_value = value_counts.idxmax()\n",
        "    if majority_value==\"I don't know\":\n",
        "      maj+=1\n",
        "    elif majority_value=='Yes' and checklist_semantic[i]=='Yes':\n",
        "      tp+=1\n",
        "    elif majority_value=='No' and checklist_semantic[i]=='No':\n",
        "      tn+=1\n",
        "    elif majority_value=='Yes' and checklist_semantic[i]=='No':\n",
        "      fn+=1\n",
        "    elif majority_value=='No' and checklist_semantic[i]=='Yes':\n",
        "      fp+=1\n",
        "    # print(f\"Majority answer for {column}: {majority_value}\")\n",
        "    #print(majority_value)\n",
        "    if majority_value==checklist_semantic[i] or majority_value==\"I don't know\":\n",
        "      ans+=1\n",
        "    i+=1\n",
        "print(ans)\n",
        "df = pd.read_csv(\"/content/drive/MyDrive/Form2 - Form Responses 1.csv\")\n",
        "ans2=0\n",
        "for column in df.columns[2:]:\n",
        "    value_counts = df[column].value_counts()\n",
        "\n",
        "    majority_value = value_counts.idxmax()\n",
        "    if majority_value==\"I don't know\":\n",
        "      if checklist_semantic[i]=='Yes':\n",
        "        tp+=1\n",
        "      else:\n",
        "        tn+=1\n",
        "    elif majority_value=='Yes' and checklist_semantic[i]=='Yes':\n",
        "      tp+=1\n",
        "    elif majority_value=='No' and checklist_semantic[i]=='No':\n",
        "      tn+=1\n",
        "    elif majority_value=='Yes' and checklist_semantic[i]=='No':\n",
        "      fn+=1\n",
        "    elif majority_value=='No' and checklist_semantic[i]=='Yes':\n",
        "      fp+=1\n",
        "    # print(f\"Majority answer for {column}: {majority_value}\")\n",
        "    #print(majority_value)\n",
        "    if majority_value==checklist_semantic[i] or majority_value==\"I don't know\":\n",
        "      ans2+=1\n",
        "    i+=1\n",
        "print(ans2)\n",
        "print(tp)\n",
        "print(tn)\n",
        "print(fp)\n",
        "print(fn)\n",
        "print(maj)"
      ],
      "metadata": {
        "colab": {
          "base_uri": "https://localhost:8080/"
        },
        "id": "j_MZ6LqklEep",
        "outputId": "74dea83d-9e56-4af9-c86b-c6e5c78eaf1d"
      },
      "execution_count": null,
      "outputs": [
        {
          "output_type": "stream",
          "name": "stdout",
          "text": [
            "71\n",
            "65\n",
            "121\n",
            "13\n",
            "11\n",
            "53\n",
            "2\n"
          ]
        }
      ]
    },
    {
      "cell_type": "code",
      "source": [
        "import pandas as pd\n",
        "\n",
        "df = pd.read_csv('/content/drive/MyDrive/Question Answering (Responses) - Form Responses 1.csv')\n",
        "\n",
        "df = df.iloc[:, 2:]\n",
        "\n",
        "selected_rows = df.iloc[[0, 2, 3]]\n",
        "\n",
        "count_yes = 0\n",
        "count_no = 0\n",
        "count_idk = 0\n",
        "count_equal = 0\n",
        "count_how = 0\n",
        "count_how_often=0\n",
        "count_when = 0\n",
        "count_what = 0\n",
        "count_is = 0\n",
        "\n",
        "def extract_question(full_string):\n",
        "    parts = full_string.split(\"Answer:\")\n",
        "    if len(parts) > 1:\n",
        "        question = parts[0].replace('Question:', '').strip()\n",
        "        return question\n",
        "    return None\n",
        "\n",
        "for col in selected_rows.columns:\n",
        "    question = extract_question(col)\n",
        "    if question.startswith(\"How long\"):\n",
        "        count_how+=1\n",
        "    elif question.startswith(\"How often\") or question.startswith(\"How many\"):\n",
        "        count_how_often+=1\n",
        "    elif question.startswith(\"When\"):\n",
        "        count_when+=1\n",
        "    elif question.startswith(\"What\"):\n",
        "        count_what+=1\n",
        "    elif question.startswith(\"Is\"):\n",
        "            count_is+=1\n",
        "    values = selected_rows[col].value_counts()\n",
        "    if 'Yes' not in values:\n",
        "        values['Yes'] = 0\n",
        "    if 'No' not in values:\n",
        "        values['No'] = 0\n",
        "    if \"I don't know\" not in values:\n",
        "        values[\"I don't know\"] = 0\n",
        "\n",
        "    yes_count = values['Yes']\n",
        "    no_count = values['No']\n",
        "    idk_count = values[\"I don't know\"]\n",
        "\n",
        "    if yes_count > no_count and yes_count > idk_count:\n",
        "        count_yes += 1\n",
        "    elif no_count > yes_count and no_count > idk_count:\n",
        "        count_no += 1\n",
        "    elif idk_count > yes_count and idk_count > no_count:\n",
        "        count_idk += 1\n",
        "    else:\n",
        "        count_equal += 1\n",
        "\n",
        "print(f\"Yes: {count_yes}\")\n",
        "print(f\"No: {count_no}\")\n",
        "print(f\"I don't know: {count_idk}\")\n",
        "print(f\"Equal count: {count_equal}\")\n"
      ],
      "metadata": {
        "colab": {
          "base_uri": "https://localhost:8080/"
        },
        "id": "8cDLpMYbECrB",
        "outputId": "1d9c9d2d-a731-449c-e3ac-7c03af7c9a03"
      },
      "execution_count": null,
      "outputs": [
        {
          "output_type": "stream",
          "name": "stdout",
          "text": [
            "Yes: 73\n",
            "No: 15\n",
            "I don't know: 4\n",
            "Equal count: 8\n"
          ]
        }
      ]
    },
    {
      "cell_type": "code",
      "source": [
        "import pandas as pd\n",
        "\n",
        "df = pd.read_csv('/content/drive/MyDrive/Question Answering (Responses) - Form Responses 1.csv')\n",
        "df = df.iloc[:, 2:]\n",
        "df2 = pd.read_csv('/content/drive/MyDrive/context_question_answer.csv')\n",
        "\n",
        "selected_rows = df.iloc[[2]]\n",
        "\n",
        "rows_to_write = []\n",
        "c=0\n",
        "for col in selected_rows.columns:\n",
        "    if selected_rows[col].values[0] == 'Yes':\n",
        "        row_index = df.columns.get_loc(col)\n",
        "        if row_index < len(df2):\n",
        "            c+=1\n",
        "            row_to_append = df2.iloc[row_index]\n",
        "            rows_to_write.append(row_to_append)\n",
        "\n",
        "print(c)\n",
        "new_df = pd.DataFrame(rows_to_write)\n",
        "\n",
        "output_file_path = '/content/drive/MyDrive/selected_rows_output.csv'\n",
        "new_df.to_csv(output_file_path, index=False)\n",
        "\n",
        "print(f\"Rows extracted and written to {output_file_path}\")\n"
      ],
      "metadata": {
        "colab": {
          "base_uri": "https://localhost:8080/"
        },
        "id": "M3wrAii0Lz37",
        "outputId": "82bff085-1eed-49ce-95d1-cdfe8f50fd0f"
      },
      "execution_count": null,
      "outputs": [
        {
          "output_type": "stream",
          "name": "stdout",
          "text": [
            "82\n",
            "Rows extracted and written to /content/drive/MyDrive/selected_rows_output.csv\n"
          ]
        }
      ]
    }
  ]
}