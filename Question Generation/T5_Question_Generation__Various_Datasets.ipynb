{
  "cells": [
    {
      "cell_type": "markdown",
      "metadata": {
        "id": "FfzrKdwyiRkb"
      },
      "source": [
        "# Setup and loading the model"
      ]
    },
    {
      "cell_type": "code",
      "execution_count": null,
      "metadata": {
        "id": "_tL9udBRhX1a"
      },
      "outputs": [],
      "source": [
        "!pip install simpletransformers datasets"
      ]
    },
    {
      "cell_type": "code",
      "execution_count": null,
      "metadata": {
        "id": "FFfi9T6ZnxSI"
      },
      "outputs": [],
      "source": [
        "categories = ['Frequency','Event Duration','Typical Time','Event Ordering','Stationarity']"
      ]
    },
    {
      "cell_type": "code",
      "execution_count": null,
      "metadata": {
        "id": "H_ATCKXuid4k"
      },
      "outputs": [],
      "source": [
        "from google.colab import drive\n",
        "drive.mount('/content/gdrive')"
      ]
    },
    {
      "cell_type": "code",
      "execution_count": null,
      "metadata": {
        "id": "pTETnCWhihU4"
      },
      "outputs": [],
      "source": [
        "import pandas as pd\n",
        "import torch\n",
        "from simpletransformers.t5 import T5Model\n",
        "\n",
        "model =  T5Model('t5','/content/gdrive/MyDrive/T5QA')"
      ]
    },
    {
      "cell_type": "markdown",
      "metadata": {
        "id": "aGLOWKk4i11R"
      },
      "source": [
        "# CNN DailyMail"
      ]
    },
    {
      "cell_type": "markdown",
      "metadata": {
        "id": "64uT2Ffzi6DI"
      },
      "source": [
        "## Preparing the data"
      ]
    },
    {
      "cell_type": "code",
      "execution_count": null,
      "metadata": {
        "id": "VolWvfqdlTm7"
      },
      "outputs": [],
      "source": [
        "import datasets\n",
        "test_data_cnn = datasets.load_dataset(\"cnn_dailymail\", \"3.0.0\",split = 'test')\n",
        "data_cnn = test_data_cnn['highlights']"
      ]
    },
    {
      "cell_type": "code",
      "execution_count": null,
      "metadata": {
        "id": "XHKSCnUqlm1n"
      },
      "outputs": [],
      "source": [
        "qaContext_cnn = []\n",
        "# [Frequency] [Event Duration] [Typical Time] [Event Ordering] [Stationarity]\n",
        "for i in data_cnn:\n",
        "  for j in categories:\n",
        "    qaContext_cnn.append('['+j+'] '+i)"
      ]
    },
    {
      "cell_type": "markdown",
      "metadata": {
        "id": "z5CjDZWoi-yr"
      },
      "source": [
        "## Question generation"
      ]
    },
    {
      "cell_type": "code",
      "execution_count": null,
      "metadata": {
        "id": "6XLYRfRvoeeb"
      },
      "outputs": [],
      "source": [
        "from simpletransformers.t5 import T5Model\n",
        "import pandas as pd\n",
        "from pprint import pprint\n",
        "\n",
        "preds = model.predict(\n",
        "[\"ask_question: \" + x for x in qaContext_cnn]\n",
        ")\n"
      ]
    },
    {
      "cell_type": "code",
      "execution_count": null,
      "metadata": {
        "colab": {
          "background_save": true
        },
        "id": "w35COHc90SHW"
      },
      "outputs": [],
      "source": [
        "df_cnn = pd.DataFrame(columns=['context', 'predicted_question'])\n",
        "\n",
        "for i in range(len(qaContext_cnn)):\n",
        "  df_cnn = df_cnn.append({'context': qaContext_cnn[i], 'predicted_question': preds[i]}, ignore_index=True)\n",
        "df_cnn.to_csv('gdrive/MyDrive/myFolder/generated_questions_sampling10epochs.csv', index=False)"
      ]
    },
    {
      "cell_type": "markdown",
      "source": [
        "# Samsum\n"
      ],
      "metadata": {
        "id": "4jKnhDKnK8nX"
      }
    },
    {
      "cell_type": "markdown",
      "source": [
        "## Preparing Test data"
      ],
      "metadata": {
        "id": "_Ecec6hsK_6g"
      }
    },
    {
      "cell_type": "code",
      "source": [
        "import datasets\n",
        "test_data_samsum = datasets.load_dataset(\"samsum\", split = 'train')\n",
        "data_samsum = test_data_samsum['summary']"
      ],
      "metadata": {
        "id": "avSVXvrkLRYy"
      },
      "execution_count": null,
      "outputs": []
    },
    {
      "cell_type": "code",
      "source": [
        "qaContext_samsum = []\n",
        "# [Frequency] [Event Duration] [Typical Time] [Event Ordering] [Stationarity]\n",
        "for i in data_samsum:\n",
        "  for j in categories:\n",
        "    qaContext_samsum.append('['+j+'] '+i)"
      ],
      "metadata": {
        "id": "KwKPJyYkLavs"
      },
      "execution_count": null,
      "outputs": []
    },
    {
      "cell_type": "markdown",
      "source": [
        "## Question Generation"
      ],
      "metadata": {
        "id": "6aGeQaGWLK50"
      }
    },
    {
      "cell_type": "code",
      "source": [
        "from simpletransformers.t5 import T5Model\n",
        "import pandas as pd\n",
        "from pprint import pprint\n",
        "\n",
        "preds = model.predict(\n",
        "[\"ask_question: \" + x for x in qaContext_samsum]\n",
        ")\n"
      ],
      "metadata": {
        "id": "GS91nTTlLIbB"
      },
      "execution_count": null,
      "outputs": []
    },
    {
      "cell_type": "code",
      "source": [
        "df_samsum = pd.DataFrame(columns=['context', 'predicted_question'])\n",
        "\n",
        "for i in range(len(qaContext_samsum)):\n",
        "  df_samsum = df_samsum.append({'context': qaContext_samsum[i], 'predicted_question': preds[i]}, ignore_index=True)\n",
        "df_samsum.to_csv('gdrive/MyDrive/myFolder/question_Samsum_train.csv', index=False)"
      ],
      "metadata": {
        "id": "T0cl4uehLwKf"
      },
      "execution_count": null,
      "outputs": []
    }
  ],
  "metadata": {
    "accelerator": "GPU",
    "colab": {
      "gpuType": "T4",
      "provenance": []
    },
    "kernelspec": {
      "display_name": "Python 3",
      "name": "python3"
    },
    "language_info": {
      "name": "python"
    }
  },
  "nbformat": 4,
  "nbformat_minor": 0
}