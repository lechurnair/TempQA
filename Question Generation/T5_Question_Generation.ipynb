{
  "cells": [
    {
      "cell_type": "markdown",
      "source": [
        "# Setting up Dependancies"
      ],
      "metadata": {
        "id": "8GhQhMXZgyfu"
      }
    },
    {
      "cell_type": "code",
      "execution_count": null,
      "metadata": {
        "id": "KXVh9IMR8DUU"
      },
      "outputs": [],
      "source": [
        "pip install simpletransformers"
      ]
    },
    {
      "cell_type": "code",
      "execution_count": null,
      "metadata": {
        "colab": {
          "base_uri": "https://localhost:8080/"
        },
        "id": "DRK3I-QHIxYs",
        "outputId": "877c007d-dd40-4a4f-828b-3ecf442ae3ed"
      },
      "outputs": [
        {
          "output_type": "stream",
          "name": "stdout",
          "text": [
            "Mounted at /content/gdrive\n"
          ]
        }
      ],
      "source": [
        "from google.colab import drive\n",
        "drive.mount('/content/gdrive')\n",
        "\n"
      ]
    },
    {
      "cell_type": "code",
      "execution_count": null,
      "metadata": {
        "id": "FYtMXzLgMdaq"
      },
      "outputs": [],
      "source": [
        "import os\n"
      ]
    },
    {
      "cell_type": "markdown",
      "source": [
        "# Training the model"
      ],
      "metadata": {
        "id": "lt4GEIs3g5g_"
      }
    },
    {
      "cell_type": "code",
      "execution_count": null,
      "metadata": {
        "id": "ADsmrswV7gns"
      },
      "outputs": [],
      "source": [
        "import pandas as pd\n",
        "import torch\n",
        "from simpletransformers.t5 import T5Model\n",
        "\n",
        "\n",
        "train_df = pd.read_csv(\"train_df.tsv\", sep=\"\\t\").astype(str)\n",
        "eval_df = pd.read_csv(\"eval_df.tsv\", sep=\"\\t\").astype(str)\n",
        "model_args = {\n",
        " \"reprocess_input_data\": True,\n",
        " \"overwrite_output_dir\": True,\n",
        " \"max_seq_length\": 128,\n",
        " \"train_batch_size\": 8,\n",
        " \"num_train_epochs\": 10,\n",
        " \"save_eval_checkpoints\": True,\n",
        " \"save_steps\": -1,\n",
        " \"use_multiprocessing\": False,\n",
        " \"evaluate_during_training\": True,\n",
        " \"evaluate_during_training_steps\": 15000,\n",
        " \"evaluate_during_training_verbose\": True,\n",
        " \"fp16\": False,\n",
        " \"wandb_project\": \"Question Generation with T5 TCS 2\",\n",
        " }\n",
        "\n",
        "model = T5Model(\"t5\", \"t5-large\", args=model_args)\n",
        "\n",
        "model.train_model(train_df, eval_data=eval_df)"
      ]
    },
    {
      "cell_type": "markdown",
      "source": [
        "# Saving the model"
      ],
      "metadata": {
        "id": "tJ0opJcEg_s1"
      }
    },
    {
      "cell_type": "code",
      "source": [
        "import shutil\n",
        "\n",
        "# Define the source and destination paths\n",
        "source_folder = '/content/outputs/best_model'\n",
        "destination_folder = '/content/gdrive/MyDrive/T5QA'\n",
        "\n",
        "# Copy the folder\n",
        "shutil.copytree(source_folder, destination_folder)"
      ],
      "metadata": {
        "id": "2bHuPZvdPEyX"
      },
      "execution_count": null,
      "outputs": []
    },
    {
      "cell_type": "markdown",
      "source": [
        "# Loading and testing the model"
      ],
      "metadata": {
        "id": "CAxHbCaYhFRw"
      }
    },
    {
      "cell_type": "code",
      "source": [
        "model2 =  T5Model('t5','/content/gdrive/MyDrive/T5QA',args = model_args)"
      ],
      "metadata": {
        "id": "7rGcLApuOX8N"
      },
      "execution_count": null,
      "outputs": []
    },
    {
      "cell_type": "code",
      "execution_count": null,
      "metadata": {
        "id": "zxbYmbS8G68U"
      },
      "outputs": [],
      "source": [
        "from simpletransformers.t5 import T5Model\n",
        "import pandas as pd\n",
        "from pprint import pprint\n",
        "eval_df = pd.read_csv(\"eval_df.tsv\", sep=\"\\t\").astype(str)\n",
        "model = T5Model('t5','/content/gdrive/MyDrive/T5QA')\n",
        "\n",
        "df = pd.read_csv(\"eval_df.tsv\", sep=\"\\t\").astype(str)\n",
        "preds = model.predict(\n",
        "[\"ask_question: \" + description for description in df[\"input_text\"].tolist()]\n",
        ")\n",
        "\n",
        "questions = df[\"target_text\"].tolist()\n",
        "df1 = pd.DataFrame(columns=['context', 'real_question', 'predicted_question'])\n",
        "\n",
        "for i, desc in enumerate(df[\"input_text\"].tolist()):\n",
        "  df1 = df1.append({'context': desc, 'real_question': questions[i], 'predicted_question': preds[i]}, ignore_index=True)\n",
        "df1.to_csv('gdrive/MyDrive/myFolder/generated_questions_sampling10epochs.csv', index=False)"
      ]
    }
  ],
  "metadata": {
    "accelerator": "GPU",
    "colab": {
      "gpuType": "T4",
      "provenance": [],
      "machine_shape": "hm"
    },
    "kernelspec": {
      "display_name": "Python 3",
      "name": "python3"
    },
    "language_info": {
      "name": "python"
    }
  },
  "nbformat": 4,
  "nbformat_minor": 0
}